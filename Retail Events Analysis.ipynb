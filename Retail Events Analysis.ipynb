{
 "cells": [
  {
   "cell_type": "markdown",
   "id": "cb2b4a06",
   "metadata": {},
   "source": [
    "<h2 align=\"center\">AtliQ Mart's Retail Events Analysis<h2>"
   ]
  },
  {
   "cell_type": "markdown",
   "id": "fc2485ac",
   "metadata": {},
   "source": [
    "### Project Name : Analyse Promotions and Provide Tangible Insights to Sales Director"
   ]
  },
  {
   "cell_type": "markdown",
   "id": "1b82bba5",
   "metadata": {},
   "source": [
    "### Project Domain: FMCG Function: Sales / Promotions"
   ]
  },
  {
   "cell_type": "markdown",
   "id": "1ff938e5",
   "metadata": {},
   "source": [
    "### Problem Statement :\n",
    "#### AtliQ Mart is a retail giant with over 50 supermarkets in the southern region of India. All their 50 stores ran a massive promotion during the Diwali 2023 and Sankranti 2024 (festive time in India) on their AtliQ branded products. Now the sales director wants to understand which promotions did well and which did not so that they can make informed decisions for their next promotional period"
   ]
  },
  {
   "cell_type": "code",
   "execution_count": 1,
   "id": "58ab3e1e",
   "metadata": {},
   "outputs": [],
   "source": [
    "## importing pandas library for analysis\n",
    "import pandas as pd"
   ]
  },
  {
   "cell_type": "code",
   "execution_count": 2,
   "id": "e7e8f29e",
   "metadata": {},
   "outputs": [],
   "source": [
    "## storing the data from csv files to dataframes \n",
    "df_campaigns=pd.read_csv(\"dataset/dim_campaigns.csv\")\n",
    "df_products=pd.read_csv(\"dataset/dim_products.csv\")\n",
    "df_stores=pd.read_csv(\"dataset/dim_stores.csv\")\n",
    "df_events=pd.read_csv(\"dataset/fact_events.csv\")"
   ]
  },
  {
   "cell_type": "markdown",
   "id": "5e65e9b3",
   "metadata": {},
   "source": [
    "## Store Performance Analysis"
   ]
  },
  {
   "cell_type": "markdown",
   "id": "3f49e5a5",
   "metadata": {},
   "source": [
    "#### Which are the top 10 stores in terms of Incremental Revenue (IR) generated from the promotions?\n"
   ]
  },
  {
   "cell_type": "code",
   "execution_count": 3,
   "id": "8ef5fb5f",
   "metadata": {},
   "outputs": [
    {
     "data": {
      "text/html": [
       "<div>\n",
       "<style scoped>\n",
       "    .dataframe tbody tr th:only-of-type {\n",
       "        vertical-align: middle;\n",
       "    }\n",
       "\n",
       "    .dataframe tbody tr th {\n",
       "        vertical-align: top;\n",
       "    }\n",
       "\n",
       "    .dataframe thead th {\n",
       "        text-align: right;\n",
       "    }\n",
       "</style>\n",
       "<table border=\"1\" class=\"dataframe\">\n",
       "  <thead>\n",
       "    <tr style=\"text-align: right;\">\n",
       "      <th></th>\n",
       "      <th>store_id</th>\n",
       "      <th>city</th>\n",
       "      <th>event_id</th>\n",
       "      <th>campaign_id</th>\n",
       "      <th>product_code</th>\n",
       "      <th>base_price</th>\n",
       "      <th>promo_type</th>\n",
       "      <th>quantity_sold(before_promo)</th>\n",
       "      <th>quantity_sold(after_promo)</th>\n",
       "    </tr>\n",
       "  </thead>\n",
       "  <tbody>\n",
       "    <tr>\n",
       "      <th>0</th>\n",
       "      <td>STTRV-0</td>\n",
       "      <td>Trivandrum</td>\n",
       "      <td>c4db5b</td>\n",
       "      <td>CAMP_DIW_01</td>\n",
       "      <td>P01</td>\n",
       "      <td>172</td>\n",
       "      <td>33% OFF</td>\n",
       "      <td>164</td>\n",
       "      <td>236</td>\n",
       "    </tr>\n",
       "    <tr>\n",
       "      <th>1</th>\n",
       "      <td>STTRV-0</td>\n",
       "      <td>Trivandrum</td>\n",
       "      <td>7fc923</td>\n",
       "      <td>CAMP_SAN_01</td>\n",
       "      <td>P08</td>\n",
       "      <td>1190</td>\n",
       "      <td>BOGOF</td>\n",
       "      <td>19</td>\n",
       "      <td>74</td>\n",
       "    </tr>\n",
       "    <tr>\n",
       "      <th>2</th>\n",
       "      <td>STTRV-0</td>\n",
       "      <td>Trivandrum</td>\n",
       "      <td>72f6b4</td>\n",
       "      <td>CAMP_SAN_01</td>\n",
       "      <td>P02</td>\n",
       "      <td>860</td>\n",
       "      <td>33% OFF</td>\n",
       "      <td>241</td>\n",
       "      <td>344</td>\n",
       "    </tr>\n",
       "    <tr>\n",
       "      <th>3</th>\n",
       "      <td>STTRV-0</td>\n",
       "      <td>Trivandrum</td>\n",
       "      <td>ccbc3a</td>\n",
       "      <td>CAMP_DIW_01</td>\n",
       "      <td>P06</td>\n",
       "      <td>415</td>\n",
       "      <td>25% OFF</td>\n",
       "      <td>52</td>\n",
       "      <td>49</td>\n",
       "    </tr>\n",
       "  </tbody>\n",
       "</table>\n",
       "</div>"
      ],
      "text/plain": [
       "  store_id        city event_id  campaign_id product_code  base_price  \\\n",
       "0  STTRV-0  Trivandrum   c4db5b  CAMP_DIW_01          P01         172   \n",
       "1  STTRV-0  Trivandrum   7fc923  CAMP_SAN_01          P08        1190   \n",
       "2  STTRV-0  Trivandrum   72f6b4  CAMP_SAN_01          P02         860   \n",
       "3  STTRV-0  Trivandrum   ccbc3a  CAMP_DIW_01          P06         415   \n",
       "\n",
       "  promo_type  quantity_sold(before_promo)  quantity_sold(after_promo)  \n",
       "0    33% OFF                          164                         236  \n",
       "1      BOGOF                           19                          74  \n",
       "2    33% OFF                          241                         344  \n",
       "3    25% OFF                           52                          49  "
      ]
     },
     "execution_count": 3,
     "metadata": {},
     "output_type": "execute_result"
    }
   ],
   "source": [
    "## merging df_stores and df_events as required columns for the given question are in that dataframes\n",
    "df=pd.merge(df_stores,df_events,on=\"store_id\")\n",
    "df.head(4)"
   ]
  },
  {
   "cell_type": "code",
   "execution_count": 4,
   "id": "5d813d69",
   "metadata": {},
   "outputs": [
    {
     "data": {
      "text/html": [
       "<div>\n",
       "<style scoped>\n",
       "    .dataframe tbody tr th:only-of-type {\n",
       "        vertical-align: middle;\n",
       "    }\n",
       "\n",
       "    .dataframe tbody tr th {\n",
       "        vertical-align: top;\n",
       "    }\n",
       "\n",
       "    .dataframe thead th {\n",
       "        text-align: right;\n",
       "    }\n",
       "</style>\n",
       "<table border=\"1\" class=\"dataframe\">\n",
       "  <thead>\n",
       "    <tr style=\"text-align: right;\">\n",
       "      <th></th>\n",
       "      <th>store_id</th>\n",
       "      <th>city</th>\n",
       "      <th>event_id</th>\n",
       "      <th>campaign_id</th>\n",
       "      <th>product_code</th>\n",
       "      <th>base_price</th>\n",
       "      <th>promo_type</th>\n",
       "      <th>quantity_sold(before_promo)</th>\n",
       "      <th>quantity_sold(after_promo)</th>\n",
       "      <th>total_revenue_before_promo</th>\n",
       "    </tr>\n",
       "  </thead>\n",
       "  <tbody>\n",
       "    <tr>\n",
       "      <th>0</th>\n",
       "      <td>STTRV-0</td>\n",
       "      <td>Trivandrum</td>\n",
       "      <td>c4db5b</td>\n",
       "      <td>CAMP_DIW_01</td>\n",
       "      <td>P01</td>\n",
       "      <td>172</td>\n",
       "      <td>33% OFF</td>\n",
       "      <td>164</td>\n",
       "      <td>236</td>\n",
       "      <td>28208</td>\n",
       "    </tr>\n",
       "    <tr>\n",
       "      <th>1</th>\n",
       "      <td>STTRV-0</td>\n",
       "      <td>Trivandrum</td>\n",
       "      <td>7fc923</td>\n",
       "      <td>CAMP_SAN_01</td>\n",
       "      <td>P08</td>\n",
       "      <td>1190</td>\n",
       "      <td>BOGOF</td>\n",
       "      <td>19</td>\n",
       "      <td>74</td>\n",
       "      <td>22610</td>\n",
       "    </tr>\n",
       "  </tbody>\n",
       "</table>\n",
       "</div>"
      ],
      "text/plain": [
       "  store_id        city event_id  campaign_id product_code  base_price  \\\n",
       "0  STTRV-0  Trivandrum   c4db5b  CAMP_DIW_01          P01         172   \n",
       "1  STTRV-0  Trivandrum   7fc923  CAMP_SAN_01          P08        1190   \n",
       "\n",
       "  promo_type  quantity_sold(before_promo)  quantity_sold(after_promo)  \\\n",
       "0    33% OFF                          164                         236   \n",
       "1      BOGOF                           19                          74   \n",
       "\n",
       "   total_revenue_before_promo  \n",
       "0                       28208  \n",
       "1                       22610  "
      ]
     },
     "execution_count": 4,
     "metadata": {},
     "output_type": "execute_result"
    }
   ],
   "source": [
    "## creating calculated column total_revenue_before_promo\n",
    "df[\"total_revenue_before_promo\"]=df[\"base_price\"]*df[\"quantity_sold(before_promo)\"]\n",
    "df.head(2)"
   ]
  },
  {
   "cell_type": "code",
   "execution_count": 5,
   "id": "148713e2",
   "metadata": {},
   "outputs": [
    {
     "data": {
      "text/plain": [
       "array(['33% OFF', 'BOGOF', '25% OFF', '50% OFF', '500 Cashback'],\n",
       "      dtype=object)"
      ]
     },
     "execution_count": 5,
     "metadata": {},
     "output_type": "execute_result"
    }
   ],
   "source": [
    "## finding unique promo types\n",
    "df[\"promo_type\"].unique()"
   ]
  },
  {
   "cell_type": "code",
   "execution_count": 6,
   "id": "d4711b19",
   "metadata": {},
   "outputs": [],
   "source": [
    "## this function will find revenue after promotion is applied based on promo type\n",
    "def converter(promotype,base_price,quantity_after_promo):\n",
    "    if promotype==\"50% OFF\":\n",
    "        revenue=base_price*0.5*quantity_after_promo\n",
    "    elif promotype==\"25% OFF\":\n",
    "        revenue=base_price*0.75*quantity_after_promo\n",
    "    elif promotype==\"33% OFF\":\n",
    "        revenue=base_price*0.67*quantity_after_promo\n",
    "    elif promotype==\"500 Cashback\":\n",
    "        revenue=(base_price*quantity_after_promo)-500\n",
    "    elif promotype==\"BOGOF\":\n",
    "        revenue=base_price*0.5*quantity_after_promo*2\n",
    "    return revenue\n",
    "         "
   ]
  },
  {
   "cell_type": "code",
   "execution_count": 7,
   "id": "5163e5ce",
   "metadata": {},
   "outputs": [],
   "source": [
    "## finding total_revenue_before_promo\n",
    "df[\"total_revenue_after_promo\"]=df.apply(lambda x:converter(x[\"promo_type\"],x[\"base_price\"],x[\"quantity_sold(after_promo)\"]),axis=1)"
   ]
  },
  {
   "cell_type": "code",
   "execution_count": 8,
   "id": "cf708c4e",
   "metadata": {},
   "outputs": [
    {
     "data": {
      "text/html": [
       "<div>\n",
       "<style scoped>\n",
       "    .dataframe tbody tr th:only-of-type {\n",
       "        vertical-align: middle;\n",
       "    }\n",
       "\n",
       "    .dataframe tbody tr th {\n",
       "        vertical-align: top;\n",
       "    }\n",
       "\n",
       "    .dataframe thead th {\n",
       "        text-align: right;\n",
       "    }\n",
       "</style>\n",
       "<table border=\"1\" class=\"dataframe\">\n",
       "  <thead>\n",
       "    <tr style=\"text-align: right;\">\n",
       "      <th></th>\n",
       "      <th>store_id</th>\n",
       "      <th>city</th>\n",
       "      <th>event_id</th>\n",
       "      <th>campaign_id</th>\n",
       "      <th>product_code</th>\n",
       "      <th>base_price</th>\n",
       "      <th>promo_type</th>\n",
       "      <th>quantity_sold(before_promo)</th>\n",
       "      <th>quantity_sold(after_promo)</th>\n",
       "      <th>total_revenue_before_promo</th>\n",
       "      <th>total_revenue_after_promo</th>\n",
       "    </tr>\n",
       "  </thead>\n",
       "  <tbody>\n",
       "    <tr>\n",
       "      <th>0</th>\n",
       "      <td>STTRV-0</td>\n",
       "      <td>Trivandrum</td>\n",
       "      <td>c4db5b</td>\n",
       "      <td>CAMP_DIW_01</td>\n",
       "      <td>P01</td>\n",
       "      <td>172</td>\n",
       "      <td>33% OFF</td>\n",
       "      <td>164</td>\n",
       "      <td>236</td>\n",
       "      <td>28208</td>\n",
       "      <td>27196.64</td>\n",
       "    </tr>\n",
       "    <tr>\n",
       "      <th>1</th>\n",
       "      <td>STTRV-0</td>\n",
       "      <td>Trivandrum</td>\n",
       "      <td>7fc923</td>\n",
       "      <td>CAMP_SAN_01</td>\n",
       "      <td>P08</td>\n",
       "      <td>1190</td>\n",
       "      <td>BOGOF</td>\n",
       "      <td>19</td>\n",
       "      <td>74</td>\n",
       "      <td>22610</td>\n",
       "      <td>88060.00</td>\n",
       "    </tr>\n",
       "    <tr>\n",
       "      <th>2</th>\n",
       "      <td>STTRV-0</td>\n",
       "      <td>Trivandrum</td>\n",
       "      <td>72f6b4</td>\n",
       "      <td>CAMP_SAN_01</td>\n",
       "      <td>P02</td>\n",
       "      <td>860</td>\n",
       "      <td>33% OFF</td>\n",
       "      <td>241</td>\n",
       "      <td>344</td>\n",
       "      <td>207260</td>\n",
       "      <td>198212.80</td>\n",
       "    </tr>\n",
       "  </tbody>\n",
       "</table>\n",
       "</div>"
      ],
      "text/plain": [
       "  store_id        city event_id  campaign_id product_code  base_price  \\\n",
       "0  STTRV-0  Trivandrum   c4db5b  CAMP_DIW_01          P01         172   \n",
       "1  STTRV-0  Trivandrum   7fc923  CAMP_SAN_01          P08        1190   \n",
       "2  STTRV-0  Trivandrum   72f6b4  CAMP_SAN_01          P02         860   \n",
       "\n",
       "  promo_type  quantity_sold(before_promo)  quantity_sold(after_promo)  \\\n",
       "0    33% OFF                          164                         236   \n",
       "1      BOGOF                           19                          74   \n",
       "2    33% OFF                          241                         344   \n",
       "\n",
       "   total_revenue_before_promo  total_revenue_after_promo  \n",
       "0                       28208                   27196.64  \n",
       "1                       22610                   88060.00  \n",
       "2                      207260                  198212.80  "
      ]
     },
     "execution_count": 8,
     "metadata": {},
     "output_type": "execute_result"
    }
   ],
   "source": [
    "df.head(3)"
   ]
  },
  {
   "cell_type": "code",
   "execution_count": 9,
   "id": "41cb613e",
   "metadata": {},
   "outputs": [],
   "source": [
    "## incremental revenue is difference between total revenue after promo to that of total revenue before promo\n",
    "df[\"IR\"]=df[\"total_revenue_after_promo\"]-df[\"total_revenue_before_promo\"]"
   ]
  },
  {
   "cell_type": "code",
   "execution_count": 10,
   "id": "ba6854ff",
   "metadata": {},
   "outputs": [
    {
     "data": {
      "text/html": [
       "<div>\n",
       "<style scoped>\n",
       "    .dataframe tbody tr th:only-of-type {\n",
       "        vertical-align: middle;\n",
       "    }\n",
       "\n",
       "    .dataframe tbody tr th {\n",
       "        vertical-align: top;\n",
       "    }\n",
       "\n",
       "    .dataframe thead th {\n",
       "        text-align: right;\n",
       "    }\n",
       "</style>\n",
       "<table border=\"1\" class=\"dataframe\">\n",
       "  <thead>\n",
       "    <tr style=\"text-align: right;\">\n",
       "      <th></th>\n",
       "      <th>store_id</th>\n",
       "      <th>city</th>\n",
       "      <th>event_id</th>\n",
       "      <th>campaign_id</th>\n",
       "      <th>product_code</th>\n",
       "      <th>base_price</th>\n",
       "      <th>promo_type</th>\n",
       "      <th>quantity_sold(before_promo)</th>\n",
       "      <th>quantity_sold(after_promo)</th>\n",
       "      <th>total_revenue_before_promo</th>\n",
       "      <th>total_revenue_after_promo</th>\n",
       "      <th>IR</th>\n",
       "    </tr>\n",
       "  </thead>\n",
       "  <tbody>\n",
       "    <tr>\n",
       "      <th>0</th>\n",
       "      <td>STTRV-0</td>\n",
       "      <td>Trivandrum</td>\n",
       "      <td>c4db5b</td>\n",
       "      <td>CAMP_DIW_01</td>\n",
       "      <td>P01</td>\n",
       "      <td>172</td>\n",
       "      <td>33% OFF</td>\n",
       "      <td>164</td>\n",
       "      <td>236</td>\n",
       "      <td>28208</td>\n",
       "      <td>27196.64</td>\n",
       "      <td>-1011.36</td>\n",
       "    </tr>\n",
       "    <tr>\n",
       "      <th>1</th>\n",
       "      <td>STTRV-0</td>\n",
       "      <td>Trivandrum</td>\n",
       "      <td>7fc923</td>\n",
       "      <td>CAMP_SAN_01</td>\n",
       "      <td>P08</td>\n",
       "      <td>1190</td>\n",
       "      <td>BOGOF</td>\n",
       "      <td>19</td>\n",
       "      <td>74</td>\n",
       "      <td>22610</td>\n",
       "      <td>88060.00</td>\n",
       "      <td>65450.00</td>\n",
       "    </tr>\n",
       "    <tr>\n",
       "      <th>2</th>\n",
       "      <td>STTRV-0</td>\n",
       "      <td>Trivandrum</td>\n",
       "      <td>72f6b4</td>\n",
       "      <td>CAMP_SAN_01</td>\n",
       "      <td>P02</td>\n",
       "      <td>860</td>\n",
       "      <td>33% OFF</td>\n",
       "      <td>241</td>\n",
       "      <td>344</td>\n",
       "      <td>207260</td>\n",
       "      <td>198212.80</td>\n",
       "      <td>-9047.20</td>\n",
       "    </tr>\n",
       "    <tr>\n",
       "      <th>3</th>\n",
       "      <td>STTRV-0</td>\n",
       "      <td>Trivandrum</td>\n",
       "      <td>ccbc3a</td>\n",
       "      <td>CAMP_DIW_01</td>\n",
       "      <td>P06</td>\n",
       "      <td>415</td>\n",
       "      <td>25% OFF</td>\n",
       "      <td>52</td>\n",
       "      <td>49</td>\n",
       "      <td>21580</td>\n",
       "      <td>15251.25</td>\n",
       "      <td>-6328.75</td>\n",
       "    </tr>\n",
       "  </tbody>\n",
       "</table>\n",
       "</div>"
      ],
      "text/plain": [
       "  store_id        city event_id  campaign_id product_code  base_price  \\\n",
       "0  STTRV-0  Trivandrum   c4db5b  CAMP_DIW_01          P01         172   \n",
       "1  STTRV-0  Trivandrum   7fc923  CAMP_SAN_01          P08        1190   \n",
       "2  STTRV-0  Trivandrum   72f6b4  CAMP_SAN_01          P02         860   \n",
       "3  STTRV-0  Trivandrum   ccbc3a  CAMP_DIW_01          P06         415   \n",
       "\n",
       "  promo_type  quantity_sold(before_promo)  quantity_sold(after_promo)  \\\n",
       "0    33% OFF                          164                         236   \n",
       "1      BOGOF                           19                          74   \n",
       "2    33% OFF                          241                         344   \n",
       "3    25% OFF                           52                          49   \n",
       "\n",
       "   total_revenue_before_promo  total_revenue_after_promo        IR  \n",
       "0                       28208                   27196.64  -1011.36  \n",
       "1                       22610                   88060.00  65450.00  \n",
       "2                      207260                  198212.80  -9047.20  \n",
       "3                       21580                   15251.25  -6328.75  "
      ]
     },
     "execution_count": 10,
     "metadata": {},
     "output_type": "execute_result"
    }
   ],
   "source": [
    "df.head(4)"
   ]
  },
  {
   "cell_type": "code",
   "execution_count": 11,
   "id": "652fd70e",
   "metadata": {},
   "outputs": [],
   "source": [
    "## finding top 10 stores by grouping store id with Incremental revenue\n",
    "top_10_stores=df.groupby(\"store_id\")[\"IR\"].sum().round(2).sort_values(ascending=False)"
   ]
  },
  {
   "cell_type": "code",
   "execution_count": 12,
   "id": "4e3274c1",
   "metadata": {},
   "outputs": [
    {
     "data": {
      "text/plain": [
       "store_id\n",
       "STMYS-1    5859313.54\n",
       "STCHE-4    5760030.03\n",
       "STBLR-0    5702623.65\n",
       "STBLR-7    5583587.33\n",
       "STCHE-7    5500225.72\n",
       "STBLR-6    5460720.29\n",
       "STMYS-3    5358791.98\n",
       "STCHE-3    5242650.33\n",
       "STCHE-6    4840345.71\n",
       "STBLR-3    4748443.40\n",
       "Name: IR, dtype: float64"
      ]
     },
     "execution_count": 12,
     "metadata": {},
     "output_type": "execute_result"
    }
   ],
   "source": [
    "top_10_stores.head(10)"
   ]
  },
  {
   "cell_type": "markdown",
   "id": "7794744b",
   "metadata": {},
   "source": [
    "#### Which are the bottom 10 stores when it comes to Incremental Sold Units (ISU) during the promotional period?\n"
   ]
  },
  {
   "cell_type": "code",
   "execution_count": 14,
   "id": "558cfcdf",
   "metadata": {},
   "outputs": [],
   "source": [
    "## finding incremental sold units\n",
    "df[\"ISU\"]=df[\"quantity_sold(after_promo)\"]-df[\"quantity_sold(before_promo)\"]"
   ]
  },
  {
   "cell_type": "code",
   "execution_count": 18,
   "id": "52799265",
   "metadata": {},
   "outputs": [],
   "source": [
    "## finding bottom 10 stores by incremental sold units\n",
    "bottom_10_stores=df.groupby(\"store_id\")[\"ISU\"].sum().sort_values()"
   ]
  },
  {
   "cell_type": "code",
   "execution_count": 19,
   "id": "6098bc02",
   "metadata": {},
   "outputs": [
    {
     "data": {
      "text/plain": [
       "store_id\n",
       "STMLR-0    1952\n",
       "STVSK-3    2209\n",
       "STVSK-4    2469\n",
       "STTRV-1    2604\n",
       "STMLR-2    2664\n",
       "STTRV-0    2733\n",
       "STVJD-1    2763\n",
       "STMLR-1    2784\n",
       "STCBE-4    2927\n",
       "STVJD-0    3046\n",
       "Name: ISU, dtype: int64"
      ]
     },
     "execution_count": 19,
     "metadata": {},
     "output_type": "execute_result"
    }
   ],
   "source": [
    "bottom_10_stores.head(10)"
   ]
  },
  {
   "cell_type": "markdown",
   "id": "a4d5ae23",
   "metadata": {},
   "source": [
    "#### What are the top 2 promotion types that resulted in the highest Incremental Revenue?\n"
   ]
  },
  {
   "cell_type": "code",
   "execution_count": 20,
   "id": "11ef8e96",
   "metadata": {},
   "outputs": [],
   "source": [
    "## as we already have Incremental revenue in our df reusing it to get top 2 promo types by Incremental revenue\n",
    "top_2_promo_types=df.groupby(\"promo_type\")[\"IR\"].sum().sort_values(ascending=False)"
   ]
  },
  {
   "cell_type": "code",
   "execution_count": 21,
   "id": "ca5070d8",
   "metadata": {},
   "outputs": [
    {
     "data": {
      "text/plain": [
       "promo_type\n",
       "500 Cashback    122593000.0\n",
       "BOGOF            69316990.0\n",
       "Name: IR, dtype: float64"
      ]
     },
     "execution_count": 21,
     "metadata": {},
     "output_type": "execute_result"
    }
   ],
   "source": [
    "top_2_promo_types.head(2)"
   ]
  },
  {
   "cell_type": "markdown",
   "id": "4aaa099b",
   "metadata": {},
   "source": [
    "#### What are the bottom 2 promotion types in terms of their impact on Incremental Sold Units?"
   ]
  },
  {
   "cell_type": "code",
   "execution_count": 22,
   "id": "fef3f2cb",
   "metadata": {},
   "outputs": [],
   "source": [
    "## finding bottom 2 promo types by Incremental revenue\n",
    "bottom_2_promo_types=df.groupby(\"promo_type\")[\"ISU\"].sum().sort_values()"
   ]
  },
  {
   "cell_type": "code",
   "execution_count": 23,
   "id": "3feaa438",
   "metadata": {},
   "outputs": [
    {
     "data": {
      "text/plain": [
       "promo_type\n",
       "25% OFF   -5717\n",
       "50% OFF    6931\n",
       "Name: ISU, dtype: int64"
      ]
     },
     "execution_count": 23,
     "metadata": {},
     "output_type": "execute_result"
    }
   ],
   "source": [
    "bottom_2_promo_types.head(2)"
   ]
  },
  {
   "cell_type": "markdown",
   "id": "8e2607c6",
   "metadata": {},
   "source": [
    "## Product and Category Analysis"
   ]
  },
  {
   "cell_type": "markdown",
   "id": "bcfe43ae",
   "metadata": {},
   "source": [
    "#### Which product categories saw the most significant lift in sales from the promotions?"
   ]
  },
  {
   "cell_type": "code",
   "execution_count": 24,
   "id": "3d899f14",
   "metadata": {},
   "outputs": [
    {
     "data": {
      "text/html": [
       "<div>\n",
       "<style scoped>\n",
       "    .dataframe tbody tr th:only-of-type {\n",
       "        vertical-align: middle;\n",
       "    }\n",
       "\n",
       "    .dataframe tbody tr th {\n",
       "        vertical-align: top;\n",
       "    }\n",
       "\n",
       "    .dataframe thead th {\n",
       "        text-align: right;\n",
       "    }\n",
       "</style>\n",
       "<table border=\"1\" class=\"dataframe\">\n",
       "  <thead>\n",
       "    <tr style=\"text-align: right;\">\n",
       "      <th></th>\n",
       "      <th>store_id</th>\n",
       "      <th>city</th>\n",
       "      <th>event_id</th>\n",
       "      <th>campaign_id</th>\n",
       "      <th>product_code</th>\n",
       "      <th>base_price</th>\n",
       "      <th>promo_type</th>\n",
       "      <th>quantity_sold(before_promo)</th>\n",
       "      <th>quantity_sold(after_promo)</th>\n",
       "      <th>total_revenue_before_promo</th>\n",
       "      <th>total_revenue_after_promo</th>\n",
       "      <th>IR</th>\n",
       "      <th>ISU</th>\n",
       "      <th>product_name</th>\n",
       "      <th>category</th>\n",
       "    </tr>\n",
       "  </thead>\n",
       "  <tbody>\n",
       "    <tr>\n",
       "      <th>0</th>\n",
       "      <td>STTRV-0</td>\n",
       "      <td>Trivandrum</td>\n",
       "      <td>c4db5b</td>\n",
       "      <td>CAMP_DIW_01</td>\n",
       "      <td>P01</td>\n",
       "      <td>172</td>\n",
       "      <td>33% OFF</td>\n",
       "      <td>164</td>\n",
       "      <td>236</td>\n",
       "      <td>28208</td>\n",
       "      <td>27196.64</td>\n",
       "      <td>-1011.36</td>\n",
       "      <td>72</td>\n",
       "      <td>Atliq_Masoor_Dal (1KG)</td>\n",
       "      <td>Grocery &amp; Staples</td>\n",
       "    </tr>\n",
       "    <tr>\n",
       "      <th>1</th>\n",
       "      <td>STTRV-0</td>\n",
       "      <td>Trivandrum</td>\n",
       "      <td>30c488</td>\n",
       "      <td>CAMP_SAN_01</td>\n",
       "      <td>P01</td>\n",
       "      <td>172</td>\n",
       "      <td>33% OFF</td>\n",
       "      <td>132</td>\n",
       "      <td>187</td>\n",
       "      <td>22704</td>\n",
       "      <td>21549.88</td>\n",
       "      <td>-1154.12</td>\n",
       "      <td>55</td>\n",
       "      <td>Atliq_Masoor_Dal (1KG)</td>\n",
       "      <td>Grocery &amp; Staples</td>\n",
       "    </tr>\n",
       "  </tbody>\n",
       "</table>\n",
       "</div>"
      ],
      "text/plain": [
       "  store_id        city event_id  campaign_id product_code  base_price  \\\n",
       "0  STTRV-0  Trivandrum   c4db5b  CAMP_DIW_01          P01         172   \n",
       "1  STTRV-0  Trivandrum   30c488  CAMP_SAN_01          P01         172   \n",
       "\n",
       "  promo_type  quantity_sold(before_promo)  quantity_sold(after_promo)  \\\n",
       "0    33% OFF                          164                         236   \n",
       "1    33% OFF                          132                         187   \n",
       "\n",
       "   total_revenue_before_promo  total_revenue_after_promo       IR  ISU  \\\n",
       "0                       28208                   27196.64 -1011.36   72   \n",
       "1                       22704                   21549.88 -1154.12   55   \n",
       "\n",
       "             product_name           category  \n",
       "0  Atliq_Masoor_Dal (1KG)  Grocery & Staples  \n",
       "1  Atliq_Masoor_Dal (1KG)  Grocery & Staples  "
      ]
     },
     "execution_count": 24,
     "metadata": {},
     "output_type": "execute_result"
    }
   ],
   "source": [
    "## merging our dataframe which already have IR and ISU with df_products to get product category wise sales\n",
    "df=pd.merge(df,df_products,on=\"product_code\")\n",
    "df.head(2)"
   ]
  },
  {
   "cell_type": "code",
   "execution_count": 25,
   "id": "417207fa",
   "metadata": {},
   "outputs": [
    {
     "data": {
      "text/plain": [
       "category\n",
       "Combo1               1.225930e+08\n",
       "Grocery & Staples    2.399289e+07\n",
       "Home Appliances      2.515039e+07\n",
       "Home Care            1.555468e+07\n",
       "Personal Care       -8.454985e+05\n",
       "Name: IR, dtype: float64"
      ]
     },
     "execution_count": 25,
     "metadata": {},
     "output_type": "execute_result"
    }
   ],
   "source": [
    "## groupping product category by IR\n",
    "result=df.groupby(\"category\")[\"IR\"].sum()\n",
    "result"
   ]
  },
  {
   "cell_type": "code",
   "execution_count": 26,
   "id": "8d9fd2ea",
   "metadata": {},
   "outputs": [],
   "source": [
    "## as the values seem to be big , I have formatted those values in millions using below function\n",
    "def format_value(value):\n",
    "    if value >= 1e6:\n",
    "        return '{:.2f} mln'.format(value / 1e6)\n",
    "    elif value >= 1e3:\n",
    "        return '{:.2f} k'.format(value / 1e3)\n",
    "    else:\n",
    "        return '{:.2f}'.format(value)\n"
   ]
  },
  {
   "cell_type": "code",
   "execution_count": 27,
   "id": "d747b07f",
   "metadata": {},
   "outputs": [],
   "source": [
    "## applying the above function to the result dataframe\n",
    "result=result.apply(format_value)"
   ]
  },
  {
   "cell_type": "code",
   "execution_count": 28,
   "id": "dda77dfb",
   "metadata": {},
   "outputs": [
    {
     "data": {
      "text/plain": [
       "category\n",
       "Combo1               122.59 mln\n",
       "Grocery & Staples     23.99 mln\n",
       "Home Appliances       25.15 mln\n",
       "Home Care             15.55 mln\n",
       "Personal Care        -845498.50\n",
       "Name: IR, dtype: object"
      ]
     },
     "execution_count": 28,
     "metadata": {},
     "output_type": "execute_result"
    }
   ],
   "source": [
    "result"
   ]
  },
  {
   "cell_type": "markdown",
   "id": "60215e2b",
   "metadata": {},
   "source": [
    "#### Are there specific products that respond exceptionally well or poorly to promotions?"
   ]
  },
  {
   "cell_type": "code",
   "execution_count": 29,
   "id": "0cab6460",
   "metadata": {},
   "outputs": [
    {
     "data": {
      "text/plain": [
       "product_name\n",
       "Atliq_Home_Essential_8_Product_Combo         1.225930e+08\n",
       "Atliq_waterproof_Immersion_Rod               1.756134e+07\n",
       "Atliq_Farm_Chakki_Atta (1KG)                 1.736348e+07\n",
       "Atliq_Double_Bedsheet_set                    1.291745e+07\n",
       "Atliq_Suflower_Oil (1L)                      8.192769e+06\n",
       "Atliq_High_Glo_15W_LED_Bulb                  7.589050e+06\n",
       "Atliq_Curtains                               3.517500e+06\n",
       "Atliq_Scrub_Sponge_For_Dishwash             -1.112788e+05\n",
       "Atliq_Cream_Beauty_Bathing_Soap (125GM)     -1.377525e+05\n",
       "Atliq_Lime_Cool_Bathing_Bar (125GM)         -1.598360e+05\n",
       "Atliq_Masoor_Dal (1KG)                      -1.757032e+05\n",
       "Atliq_Body_Milk_Nourishing_Lotion (120ML)   -2.161700e+05\n",
       "Atliq_Doodh_Kesar_Body_Lotion (200ML)       -3.317400e+05\n",
       "Atliq_Fusion_Container_Set_of_3             -7.689950e+05\n",
       "Atliq_Sonamasuri_Rice (10KG)                -1.387653e+06\n",
       "Name: IR, dtype: float64"
      ]
     },
     "execution_count": 29,
     "metadata": {},
     "output_type": "execute_result"
    }
   ],
   "source": [
    "## groupping the products by IR\n",
    "result=df.groupby(\"product_name\")[\"IR\"].sum().sort_values(ascending=False)\n",
    "result"
   ]
  },
  {
   "cell_type": "code",
   "execution_count": 30,
   "id": "5895f157",
   "metadata": {},
   "outputs": [
    {
     "data": {
      "text/plain": [
       "product_name\n",
       "Atliq_Home_Essential_8_Product_Combo    122.59 mln\n",
       "Atliq_waterproof_Immersion_Rod           17.56 mln\n",
       "Atliq_Farm_Chakki_Atta (1KG)             17.36 mln\n",
       "Atliq_Double_Bedsheet_set                12.92 mln\n",
       "Atliq_Suflower_Oil (1L)                   8.19 mln\n",
       "Atliq_High_Glo_15W_LED_Bulb               7.59 mln\n",
       "Atliq_Curtains                            3.52 mln\n",
       "Name: IR, dtype: object"
      ]
     },
     "execution_count": 30,
     "metadata": {},
     "output_type": "execute_result"
    }
   ],
   "source": [
    "## from above result we got there are total 15 products out of which top 7 are perfoming well\n",
    "high_IR_products=result.head(7)\n",
    "high_IR_products=high_IR_products.apply(format_value)\n",
    "high_IR_products"
   ]
  },
  {
   "cell_type": "code",
   "execution_count": 31,
   "id": "9a21a9cc",
   "metadata": {},
   "outputs": [
    {
     "data": {
      "text/plain": [
       "product_name\n",
       "Atliq_Scrub_Sponge_For_Dishwash              -111278.75\n",
       "Atliq_Cream_Beauty_Bathing_Soap (125GM)      -137752.50\n",
       "Atliq_Lime_Cool_Bathing_Bar (125GM)          -159836.00\n",
       "Atliq_Masoor_Dal (1KG)                       -175703.16\n",
       "Atliq_Body_Milk_Nourishing_Lotion (120ML)    -216170.00\n",
       "Atliq_Doodh_Kesar_Body_Lotion (200ML)        -331740.00\n",
       "Atliq_Fusion_Container_Set_of_3              -768995.00\n",
       "Atliq_Sonamasuri_Rice (10KG)                -1387653.00\n",
       "Name: IR, dtype: float64"
      ]
     },
     "execution_count": 31,
     "metadata": {},
     "output_type": "execute_result"
    }
   ],
   "source": [
    "## there are total 15 products out of which bottom 8 are perfoming poorly\n",
    "result.tail(8)"
   ]
  }
 ],
 "metadata": {
  "kernelspec": {
   "display_name": "Python 3 (ipykernel)",
   "language": "python",
   "name": "python3"
  },
  "language_info": {
   "codemirror_mode": {
    "name": "ipython",
    "version": 3
   },
   "file_extension": ".py",
   "mimetype": "text/x-python",
   "name": "python",
   "nbconvert_exporter": "python",
   "pygments_lexer": "ipython3",
   "version": "3.11.5"
  }
 },
 "nbformat": 4,
 "nbformat_minor": 5
}
